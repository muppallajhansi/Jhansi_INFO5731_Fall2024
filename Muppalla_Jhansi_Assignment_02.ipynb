{
  "cells": [
    {
      "cell_type": "markdown",
      "metadata": {
        "id": "view-in-github",
        "colab_type": "text"
      },
      "source": [
        "<a href=\"https://colab.research.google.com/github/muppallajhansi/Jhansi_INFO5731_Fall2024/blob/main/Muppalla_Jhansi_Assignment_02.ipynb\" target=\"_parent\"><img src=\"https://colab.research.google.com/assets/colab-badge.svg\" alt=\"Open In Colab\"/></a>"
      ]
    },
    {
      "cell_type": "markdown",
      "metadata": {
        "id": "Ryk8D1Q4Wsrp"
      },
      "source": [
        "# **INFO5731 Assignment One**"
      ]
    },
    {
      "cell_type": "markdown",
      "metadata": {
        "id": "qcP6re2g5A5r"
      },
      "source": [
        "This assignment includes range of programming tasks and data analysis exercises, aiming to enhance your Python skills and proficiency in string manipulation, numerical computations, and data science. Follow the instructions carefully and design well-structured Python programs to address each question.\n",
        "\n",
        "Late Submission will have a penalty of 10% reduction for each day after the deadline."
      ]
    },
    {
      "cell_type": "markdown",
      "metadata": {
        "id": "JkzR8cFAyGik"
      },
      "source": [
        "# Question 1 (10 points).\n",
        "\n",
        "The formula that describes the volume V of a hemisphere with radius r is the following:\n",
        "\n",
        "$ V=\\frac{2}{3}\\ast\\ \\pi\\ast\\ r^3 $\n",
        "\n",
        "Write a program to calculate the value of V when r is in the range of even numbers from 1-20. Output the result in the following format:\n",
        "\n",
        "\tr\tV\n",
        "\t2\t…\n",
        "\t4\t…\n",
        "\t6\t…\n",
        "\t.\n",
        "\t.\n",
        "\t.\n",
        "\t20\t…\n"
      ]
    },
    {
      "cell_type": "code",
      "execution_count": 1,
      "metadata": {
        "colab": {
          "base_uri": "https://localhost:8080/"
        },
        "id": "jDyTKYs-yGit",
        "outputId": "c2f9559c-0f64-4445-c6cc-14fed2948d70"
      },
      "outputs": [
        {
          "output_type": "stream",
          "name": "stdout",
          "text": [
            "r    V\n",
            "2    16.76\n",
            "4    134.04\n",
            "6    452.39\n",
            "8    1072.33\n",
            "10   2094.40\n",
            "12   3619.11\n",
            "14   5747.02\n",
            "16   8578.64\n",
            "18   12214.51\n",
            "20   16755.16\n"
          ]
        }
      ],
      "source": [
        "import math\n",
        "print(\"r    V\")\n",
        "for r in range(2, 21, 2):\n",
        "    V = (2/3) * math.pi * r**3\n",
        "    print(f\"{r:<4} {V:.2f}\")\n"
      ]
    },
    {
      "cell_type": "markdown",
      "metadata": {
        "id": "90_NR8c5XGWc"
      },
      "source": [
        "# Question 2 (20 points)\n",
        "\n",
        "(a) Write a Python program to generate a sequence of 12 random numbers falling within the range of 50 to 150.\n",
        "\n",
        "(b) Arrange the generated numbers in ascending order. Display the sorted list.\n",
        "\n",
        "(c) Extend the program to arrange the numbers in descending order as well. Present the sorted list accordingly.\n",
        "\n",
        "(d) Compute and output the average of the entire group of generated numbers.\n",
        "\n",
        "(e) Enhance the program to calculate and display the average of the first 6 numbers from both the ascending and descending sorted lists."
      ]
    },
    {
      "cell_type": "code",
      "execution_count": 2,
      "metadata": {
        "colab": {
          "base_uri": "https://localhost:8080/"
        },
        "id": "5QX6bJjGWXY9",
        "outputId": "be279c7f-2fe0-44f8-9a56-af644bbbb91c"
      },
      "outputs": [
        {
          "output_type": "stream",
          "name": "stdout",
          "text": [
            "[130, 112, 93, 100, 99, 100, 97, 72, 87, 99, 51, 116]\n"
          ]
        }
      ],
      "source": [
        "# (a)\n",
        "import random\n",
        "random_numbers=[random.randint(50, 150)for i in range(12)]\n",
        "print(random_numbers)\n",
        "\n",
        "\n"
      ]
    },
    {
      "cell_type": "code",
      "execution_count": 3,
      "metadata": {
        "colab": {
          "base_uri": "https://localhost:8080/"
        },
        "id": "9CtuAgHqUEIB",
        "outputId": "b8093786-15af-404d-95dd-9e1ea345b7bc"
      },
      "outputs": [
        {
          "output_type": "stream",
          "name": "stdout",
          "text": [
            "[51, 72, 87, 93, 97, 99, 99, 100, 100, 112, 116, 130]\n"
          ]
        }
      ],
      "source": [
        "#(b)\n",
        "random_numbers.sort()\n",
        "print(random_numbers)\n"
      ]
    },
    {
      "cell_type": "code",
      "execution_count": 4,
      "metadata": {
        "colab": {
          "base_uri": "https://localhost:8080/"
        },
        "id": "zorkaEUvUcwO",
        "outputId": "2305cb66-7df2-49c4-c5b9-caedc1c8cebe"
      },
      "outputs": [
        {
          "output_type": "stream",
          "name": "stdout",
          "text": [
            "[130, 116, 112, 100, 100, 99, 99, 97, 93, 87, 72, 51]\n"
          ]
        }
      ],
      "source": [
        "#(c)\n",
        "Descending_order=sorted(random_numbers, reverse=True)\n",
        "print(Descending_order)\n"
      ]
    },
    {
      "cell_type": "code",
      "execution_count": 5,
      "metadata": {
        "colab": {
          "base_uri": "https://localhost:8080/"
        },
        "id": "HDpMUJx4VPib",
        "outputId": "3c8f32ae-0f9b-4106-abfb-3a54b4c9c37b"
      },
      "outputs": [
        {
          "output_type": "stream",
          "name": "stdout",
          "text": [
            "96.33333333333333\n"
          ]
        }
      ],
      "source": [
        "#(d)\n",
        "avg=sum(random_numbers)/len(random_numbers)\n",
        "print(avg)"
      ]
    },
    {
      "cell_type": "code",
      "execution_count": 6,
      "metadata": {
        "colab": {
          "base_uri": "https://localhost:8080/"
        },
        "id": "vnzmi0_1WPyC",
        "outputId": "99f24219-1380-4c5c-93aa-1b30409cbeff"
      },
      "outputs": [
        {
          "output_type": "stream",
          "name": "stdout",
          "text": [
            "[51, 72, 87, 93, 97, 99, 99, 100, 100, 112, 116, 130]\n"
          ]
        }
      ],
      "source": [
        "Ascending_order=sorted(random_numbers)\n",
        "print(Ascending_order)"
      ]
    },
    {
      "cell_type": "code",
      "execution_count": 7,
      "metadata": {
        "colab": {
          "base_uri": "https://localhost:8080/"
        },
        "id": "i6mXmnThVHhS",
        "outputId": "85f85d94-5a2c-4602-cb15-69cc5422abeb"
      },
      "outputs": [
        {
          "output_type": "stream",
          "name": "stdout",
          "text": [
            "Average of first 6 numbers in Ascending order: 83.16666666666667\n",
            "Average of first 6 numbers in Descending order: 109.5\n"
          ]
        }
      ],
      "source": [
        "#(e)\n",
        "Avg_Asc_first_6=sum(Ascending_order[:6])/len(Ascending_order[:6])\n",
        "Avg_Desc_first_6=sum(Descending_order[:6])/len(Descending_order[:6])\n",
        "print(f\"Average of first 6 numbers in Ascending order: {Avg_Asc_first_6}\")\n",
        "print(f\"Average of first 6 numbers in Descending order: {Avg_Desc_first_6}\")\n"
      ]
    },
    {
      "cell_type": "markdown",
      "metadata": {
        "id": "1F_PZdH9Sh49"
      },
      "source": [
        "# Question 3 (20 points).\n",
        "\n",
        "Create a Python program that encompasses various string manipulation task:\n",
        "\n",
        "(a) Prompt the user to input two sentences.\n",
        "\n",
        "(b) Transform each sentence into a list, where each element corresponds to a word in the sentence. For example, if the sentences are \"Hello, how are you doing today?\" and \"This is an example sentence for the program!\"\n",
        "\n",
        "The program should output:\n",
        "['Hello', ',', 'how', 'are', 'you', 'doing', 'today', '?', 'This', 'is', 'an', 'example', 'sentence', 'for', 'the', 'program', '!']\n",
        "\n",
        "(c) Compare the two sentences. Print out a list of words that occur in both sentences.\n",
        "\n",
        "(d) Remove any punctuation from the sentence and print the sanitized sentences. It should remove at least the following characters, but it can remove more: period(“.”), comma (“,”), semicolon (“;”), and colon (“:”).\n",
        "\n",
        "(e) Count the number of vowels in each of the sentences. Print out each vowel and the occurrences  in the each of the two sentences separately, such as:\n",
        "\n",
        "Sentence1: a:2, e:2, i:0, etc.\n",
        "Sentence2: a:1, e:2, i:2, etc.\n",
        "\n",
        "Design a well-structured Python program to execute these tasks efficiently."
      ]
    },
    {
      "cell_type": "code",
      "execution_count": 8,
      "metadata": {
        "colab": {
          "base_uri": "https://localhost:8080/"
        },
        "id": "Y0oOSlsOS0cq",
        "outputId": "31aaa389-e0aa-499e-d261-7afe6f5c2c63"
      },
      "outputs": [
        {
          "output_type": "stream",
          "name": "stdout",
          "text": [
            "Enter first sentence: Hello, how are you doing today?\n",
            "Enter second sentence: This is an example sentence for the program!\n",
            "Hello, how are you doing today?\n",
            "This is an example sentence for the program!\n"
          ]
        }
      ],
      "source": [
        "# (a)\n",
        "s1= input(\"Enter first sentence: \")\n",
        "s2= input(\"Enter second sentence: \")\n",
        "print(s1)\n",
        "print(s2)\n"
      ]
    },
    {
      "cell_type": "code",
      "execution_count": 9,
      "metadata": {
        "colab": {
          "base_uri": "https://localhost:8080/"
        },
        "id": "KO18_dQ0X8RR",
        "outputId": "d6052f30-2b14-4618-a4e2-f80a9317709a"
      },
      "outputs": [
        {
          "output_type": "stream",
          "name": "stdout",
          "text": [
            "['Hello', ',', 'how', 'are', 'you', 'doing', 'today', '?']\n",
            "['This', 'is', 'an', 'example', 'sentence', 'for', 'the', 'program', '!']\n"
          ]
        }
      ],
      "source": [
        "#(b)\n",
        "import re\n",
        "list_1=re.findall(r'\\w+|[.,;:!?]', s1)\n",
        "list_2=re.findall(r'\\w+|[.,;:!?]', s2)\n",
        "print(list_1)\n",
        "print(list_2)\n",
        "\n"
      ]
    },
    {
      "cell_type": "code",
      "execution_count": 10,
      "metadata": {
        "colab": {
          "base_uri": "https://localhost:8080/"
        },
        "id": "uL1WaoRiY3yP",
        "outputId": "400a3998-6736-4a1e-8424-3b35876073e7"
      },
      "outputs": [
        {
          "output_type": "stream",
          "name": "stdout",
          "text": [
            "No common elements\n"
          ]
        }
      ],
      "source": [
        "#(c)\n",
        "list1=set(list_1)\n",
        "list2=set(list_2)\n",
        "if len(list1.intersection(list2))>0:\n",
        "  print(list1.intersection(list2))\n",
        "else:\n",
        "  print(\"No common elements\")\n",
        "\n"
      ]
    },
    {
      "cell_type": "code",
      "execution_count": 11,
      "metadata": {
        "colab": {
          "base_uri": "https://localhost:8080/"
        },
        "id": "t-a1HTkOjneC",
        "outputId": "09f81ddf-c132-40d0-ec47-8975c4bc6129"
      },
      "outputs": [
        {
          "output_type": "stream",
          "name": "stdout",
          "text": [
            "Hello how are you doing today\n",
            "This is an example sentence for the program\n"
          ]
        }
      ],
      "source": [
        "#(d)\n",
        "punctuations= \".,;:?!\"\n",
        "for char in punctuations:\n",
        "  s1=s1.replace(char,\"\")\n",
        "  s2=s2.replace(char,\"\")\n",
        "print(s1)\n",
        "print(s2)\n"
      ]
    },
    {
      "cell_type": "code",
      "execution_count": 12,
      "metadata": {
        "colab": {
          "base_uri": "https://localhost:8080/"
        },
        "id": "YUqr02_7mPU8",
        "outputId": "3339b0e3-91d1-42d7-c925-650d812b704a"
      },
      "outputs": [
        {
          "output_type": "stream",
          "name": "stdout",
          "text": [
            "Sentence 1: {'a': 2, 'e': 2, 'i': 1, 'o': 5, 'u': 1}\n",
            "Sentence 2: {'a': 3, 'e': 6, 'i': 2, 'o': 2, 'u': 0}\n"
          ]
        }
      ],
      "source": [
        "#(e)\n",
        "from collections import Counter\n",
        "s1=s1.lower()\n",
        "s2=s2.lower()\n",
        "vowels='aeiou'\n",
        "count_1=Counter([char for char in s1 if char in vowels])\n",
        "count_2=Counter([char for char in s2 if char in vowels])\n",
        "normalized_counts = {vowel: count_1.get(vowel, 0) for vowel in 'aeiou'}\n",
        "print(f\"Sentence 1: {normalized_counts}\")\n",
        "normalized_counts = {vowel: count_2.get(vowel, 0) for vowel in 'aeiou'}\n",
        "print(f\"Sentence 2: {normalized_counts}\")\n",
        "\n"
      ]
    },
    {
      "cell_type": "markdown",
      "metadata": {
        "id": "OP4-5qxAtInv"
      },
      "source": [
        "# Question 4 (20 Points)"
      ]
    },
    {
      "cell_type": "markdown",
      "metadata": {
        "id": "uzN4_hDptK9U"
      },
      "source": [
        "Design and implement a simple command-line calculator program. The program should handle both integers and floating-point numbers.\n",
        "\n",
        "(a) Write program that takes a mathematical expression as input and evaluates it. The program should support addition, subtraction, multiplication, and division.\n",
        "\n",
        "(b) Extend the calculator to handle parentheses in mathematical expressions. Implement the necessary logic to evaluate expressions with nested parentheses.\n",
        "\n",
        "(c) Enhance your calculator to include additional mathematical operations such as exponentiation, square root, and modulus.\n",
        "\n",
        "(d) Implement error handling in the calculator program. Handle cases such as division by zero and invalid input expressions. Provide meaningful error messages.\n",
        "\n",
        "(e) Implement a command to exit the calculator."
      ]
    },
    {
      "cell_type": "code",
      "execution_count": 13,
      "metadata": {
        "colab": {
          "base_uri": "https://localhost:8080/"
        },
        "id": "8nQnVxjJuYtu",
        "outputId": "6d7367d2-73aa-4dc6-a1d8-e29153018661"
      },
      "outputs": [
        {
          "output_type": "stream",
          "name": "stdout",
          "text": [
            "COMMAND LINE CALCULATOR PROGRAM\n",
            "+,-,*,/,(),sqrt,**,% are the supported arguments\n",
            "Enter a mathematical expression to evaluate:10+2\n",
            "Result: 12\n",
            "Enter a mathematical expression to evaluate:10-2\n",
            "Result: 8\n",
            "Enter a mathematical expression to evaluate:10*2\n",
            "Result: 20\n",
            "Enter a mathematical expression to evaluate:10/2\n",
            "Result: 5.0\n",
            "Enter a mathematical expression to evaluate:10%2\n",
            "Result: 0\n",
            "Enter a mathematical expression to evaluate:math.sqrt(25)\n",
            "Result: 5.0\n",
            "Enter a mathematical expression to evaluate:10/0\n",
            "Result: Division by zero is not allowed\n",
            "Enter a mathematical expression to evaluate::\n",
            "Result: Error: invalid syntax (<string>, line 1)\n",
            "Enter a mathematical expression to evaluate:exit\n",
            "EXIT\n"
          ]
        }
      ],
      "source": [
        "def EVALUATE_EXPRESSION(expression):\n",
        "    try:\n",
        "        result = eval(expression)\n",
        "        return result\n",
        "    except (SyntaxError, NameError) as e:\n",
        "        return f\"Error: {str(e)}\"\n",
        "    except ZeroDivisionError:\n",
        "        return \"Division by zero is not allowed\"\n",
        "    except Exception as e:\n",
        "        return f\"Error: {str(e)}\"\n",
        "\n",
        "def main():\n",
        "    print(\"COMMAND LINE CALCULATOR PROGRAM\")\n",
        "    print(\"+,-,*,/,(),sqrt,**,% are the supported arguments\")\n",
        "\n",
        "    while True:\n",
        "        try:\n",
        "            exp = input(\"Enter a mathematical expression to evaluate:\")\n",
        "            if exp.lower() == 'exit':\n",
        "                print(\"EXIT\")\n",
        "                break\n",
        "            result = EVALUATE_EXPRESSION(exp)\n",
        "            print(\"Result:\", result)\n",
        "        except KeyboardInterrupt:\n",
        "            print(\"Keyboard interrupt occured\")\n",
        "            break\n",
        "if __name__ == \"__main__\":\n",
        "    main()"
      ]
    },
    {
      "cell_type": "markdown",
      "metadata": {
        "id": "z3tBE7E-Xn5X"
      },
      "source": [
        "# Question 5 (30 points).\n",
        "\n",
        "In the field of Data Science, data is often formatted as a comma-delimited (CSV) file, where each line in a file corresponds to a field's value. Refer to Chapter 9 (p. 106) for more information on comma-delimited files.\n",
        "\n",
        "To answer this question, you will need to download the file [Assignment1_denton_housing.csv](https://raw.githubusercontent.com/unt-iialab/info5731-spring2022/main/assignments/Assignment1_denton_housing.csv) included with this assignment. The file contains statistics about housing in the city of Denton from 2008 to 2014. Write a program to implement the following questions.\n",
        "\n",
        "(a) (5 pts) Calculate the difference in the number of Occupied Housing Units from year to year and print it. The difference must be calculated for the consecutive years such as 2008-2009, 2009-2010 etc. Finally, print the values in the ascending order.\n",
        "\n",
        "(b) (5 pts) For all the years, calculate the percentage of housing units which are vacant an occupied. Print the results in the following format:\n",
        "\n",
        "Year Vacant Housing Units Occupied Housing Units\n",
        "\n",
        "    2008  30%   70%                          \n",
        "\t2009 ----- -----\n",
        "\t2010 ----- -----\n",
        "    2011 ----- -----\n",
        "\t2012 ----- -----\n",
        "    2013 ----- -----\n",
        "\t2014 ----- -----\n",
        "  \n",
        "  \n",
        "\n",
        "(c) (10 pts) Calculate and print the valued and years in which the highest number of housing units were vacant and occupied. Print the results in the following format:  \n",
        "\n",
        "                              Year\tValue\n",
        "\tVacant Housing Units\t  -----   -----\n",
        "\tOccupied Housing Units\t-----   -----\n",
        "\n",
        "(d) (10 pts) Calculate the harmonic mean of the total housing units and print it out. You can find the information about harmonic mean here: https://ncalculators.com/statistics/harmonic-mean-calculator.htm"
      ]
    },
    {
      "cell_type": "code",
      "execution_count": 15,
      "metadata": {
        "id": "-5nIoNyfsrEF"
      },
      "outputs": [],
      "source": [
        "import csv\n",
        "house_data = {}\n",
        "with open('Assignment1_denton_housing.csv', mode='r') as file:\n",
        "    reader = csv.reader(file)\n",
        "    next(reader)\n",
        "    for row in reader:\n",
        "        year, title_field, value = row[0], row[1], int(row[2])\n",
        "        if year not in house_data:\n",
        "            house_data[year] = {}\n",
        "        house_data[year][title_field] = value\n",
        "sorted_years = sorted(house_data.keys())"
      ]
    },
    {
      "cell_type": "code",
      "execution_count": 16,
      "metadata": {
        "id": "lqGYuHBhcsRH",
        "colab": {
          "base_uri": "https://localhost:8080/"
        },
        "outputId": "db113a33-2eee-4ab3-9743-42df4e0b7344"
      },
      "outputs": [
        {
          "output_type": "stream",
          "name": "stdout",
          "text": [
            "Occupied differences are:\n",
            "\n",
            "2010-2011: 303\n",
            "2008-2009: 795\n",
            "2011-2012: 1404\n",
            "2012-2013: 1565\n",
            "2013-2014: 2622\n",
            "2009-2010: 5091\n"
          ]
        }
      ],
      "source": [
        "#(a)\n",
        "occupied_diff = []\n",
        "for i in range(len(sorted_years) - 1):\n",
        "    year1, year2 = sorted_years[i], sorted_years[i + 1]\n",
        "    diff = abs(house_data[year2]['Occupied Housing Units'] - house_data[year1]['Occupied Housing Units'])\n",
        "    occupied_diff.append((f\"{year1}-{year2}\", diff))\n",
        "occupied_diff.sort(key=lambda x: x[1])\n",
        "print(\"Occupied differences are:\\n\")\n",
        "for year_pair, diff in occupied_diff:\n",
        "    print(f\"{year_pair}: {diff}\")\n",
        "\n",
        "\n"
      ]
    },
    {
      "cell_type": "code",
      "execution_count": 17,
      "metadata": {
        "colab": {
          "base_uri": "https://localhost:8080/"
        },
        "id": "acslVFbGvt-h",
        "outputId": "50c6a799-df70-4bf1-ad2b-2b1d2f74cec8"
      },
      "outputs": [
        {
          "output_type": "stream",
          "name": "stdout",
          "text": [
            "\n",
            "Year   Vacant_Percentage   Occupied_Percentage\n",
            "2008     10.88%             89.12%\n",
            "2009     9.07%             90.93%\n",
            "2010     8.14%             91.86%\n",
            "2011     9.38%             90.62%\n",
            "2012     6.68%             93.32%\n",
            "2013     8.80%             91.20%\n",
            "2014     5.73%             94.27%\n"
          ]
        }
      ],
      "source": [
        "#(b)\n",
        "print(\"\\nYear   Vacant_Percentage   Occupied_Percentage\")\n",
        "for year in sorted_years:\n",
        "    total = house_data[year]['Total Housing Units']\n",
        "    vacant = house_data[year]['Vacant Housing Units']\n",
        "    occupied = house_data[year]['Occupied Housing Units']\n",
        "    vacant_percentage = (vacant / total)*100\n",
        "    occupied_percentage = (occupied / total)*100\n",
        "\n",
        "\n",
        "    print(f\"{year}     {vacant_percentage:.2f}%             {occupied_percentage:.2f}%\")"
      ]
    },
    {
      "cell_type": "code",
      "execution_count": 18,
      "metadata": {
        "colab": {
          "base_uri": "https://localhost:8080/"
        },
        "id": "b5VqZMr2zBGU",
        "outputId": "af3c2be6-1e81-455f-d924-c49dd6e28653"
      },
      "outputs": [
        {
          "output_type": "stream",
          "name": "stdout",
          "text": [
            "                               Year       Value     \n",
            "Vacant Housing Units           2008       4483      \n",
            "Occupied Housing Units         2014       46295     \n"
          ]
        }
      ],
      "source": [
        "#(c)\n",
        "\n",
        "max_vacant_units = -1\n",
        "max_vacant_year = None\n",
        "max_occupied_units = -1\n",
        "max_occupied_year = None\n",
        "for year in house_data:\n",
        "    vacant_units = house_data[year].get('Vacant Housing Units', 0)\n",
        "    occupied_units = house_data[year].get('Occupied Housing Units', 0)\n",
        "    if vacant_units > max_vacant_units:\n",
        "        max_vacant_units = vacant_units\n",
        "        max_vacant_year = year\n",
        "    if occupied_units > max_occupied_units:\n",
        "        max_occupied_units = occupied_units\n",
        "        max_occupied_year = year\n",
        "print(\"{:<30} {:<10} {:<10}\".format('','Year', 'Value'))\n",
        "print(\"{:<30} {:<10} {:<10}\".format('Vacant Housing Units', max_vacant_year, max_vacant_units))\n",
        "print(\"{:<30} {:<10} {:<10}\".format('Occupied Housing Units', max_occupied_year, max_occupied_units))\n"
      ]
    },
    {
      "cell_type": "code",
      "execution_count": 19,
      "metadata": {
        "colab": {
          "base_uri": "https://localhost:8080/"
        },
        "id": "JByUcFgt6GtH",
        "outputId": "cd3bb701-e6b3-44a0-9709-aa69ddf6f142"
      },
      "outputs": [
        {
          "output_type": "stream",
          "name": "stdout",
          "text": [
            "Harmonic Mean of Total Housing Units: 44398.28543969185\n"
          ]
        }
      ],
      "source": [
        "#(d)\n",
        "def h_m(numbers):\n",
        "    n = len(numbers)\n",
        "    if n == 0:\n",
        "        return None\n",
        "    reciprocal_sum = sum(1/x for x in numbers)\n",
        "    return n / reciprocal_sum\n",
        "housing_units = [house_data[year].get('Total Housing Units', 0) for year in sorted_years]\n",
        "hm = h_m(housing_units)\n",
        "print(\"Harmonic Mean of Total Housing Units:\", hm)\n"
      ]
    },
    {
      "cell_type": "markdown",
      "metadata": {
        "id": "q8BFCvWp32cf"
      },
      "source": [
        "# Mandatory Question\n",
        "\n",
        "Provide your thoughts on the assignment. What did you find challenging, and what aspects did you enjoy? Your opinion on the provided time to complete the assignment. Share any suggestions for improvement. Your feedback will be valuable for enhancing the learning experience."
      ]
    },
    {
      "cell_type": "code",
      "execution_count": 20,
      "metadata": {
        "id": "_e557s2w4BpK"
      },
      "outputs": [],
      "source": [
        "# I enjoyed a lot while doing my assignment moreover I have revised the previous bachelors knowledge in this assignment."
      ]
    }
  ],
  "metadata": {
    "colab": {
      "provenance": [],
      "include_colab_link": true
    },
    "kernelspec": {
      "display_name": "Python 3 (ipykernel)",
      "language": "python",
      "name": "python3"
    },
    "language_info": {
      "codemirror_mode": {
        "name": "ipython",
        "version": 3
      },
      "file_extension": ".py",
      "mimetype": "text/x-python",
      "name": "python",
      "nbconvert_exporter": "python",
      "pygments_lexer": "ipython3",
      "version": "3.9.12"
    }
  },
  "nbformat": 4,
  "nbformat_minor": 0
}